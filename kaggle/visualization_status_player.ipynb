{
 "cells": [
  {
   "cell_type": "code",
   "execution_count": null,
   "metadata": {},
   "outputs": [],
   "source": [
    "player_features = ('Acceleration', 'Aggression', 'Agility', \n",
    "                   'Balance', 'BallControl', 'Composure', \n",
    "                   'Crossing', 'Dribbling', 'FKAccuracy', \n",
    "                   'Finishing', 'GKDiving', 'GKHandling', \n",
    "                   'GKKicking', 'GKPositioning', 'GKReflexes', \n",
    "                   'HeadingAccuracy', 'Interceptions', 'Jumping', \n",
    "                   'LongPassing', 'LongShots', 'Marking', 'Penalties')\n",
    "\n",
    "from math import pi\n",
    "import matplotlib.pyplot as plt\n",
    "\n",
    "idx = 1\n",
    "f=plt.figure(figsize=(15,45))\n",
    "f.patch.set_facecolor('xkcd:white')\n",
    "for position_name,features in data.groupby(data['Position'])[player_features].mean().iterrows():\n",
    "    top_features = dict(features.nlargest(5))\n",
    "    \n",
    "    categories = top_features.keys()\n",
    "    N = len(categories)\n",
    "    \n",
    "    values = list(top_features.values())\n",
    "    values += values[:1]\n",
    "    \n",
    "    angles = [n/float(N) * 2 * pi for n in range(N)]\n",
    "    angles += angles[:1]\n",
    "    \n",
    "    ax = plt.subplot(9,3,idx, polar = True)\n",
    "    plt.xticks(angles[:-1],categories, color='grey',size=8)\n",
    "    \n",
    "    ax.set_rlabel_position(0)\n",
    "    plt.yticks([25,50,75],['25','50','75'],color='grey',size=7)\n",
    "    plt.ylim(0,100)\n",
    "    \n",
    "    plt.subplots_adjust(hspace=0.5)\n",
    "    ax.plot(angles,values,linewidth=1,linestyle='solid')\n",
    "    ax.fill(angles,values,'b',alpha=0.1)\n",
    "    plt.title(position_name,size=11,y=1.1)\n",
    "    idx += 1"
   ]
  },
  {
   "cell_type": "code",
   "execution_count": null,
   "metadata": {},
   "outputs": [],
   "source": []
  }
 ],
 "metadata": {
  "language_info": {
   "codemirror_mode": {
    "name": "ipython",
    "version": 3
   },
   "file_extension": ".py",
   "mimetype": "text/x-python",
   "name": "python",
   "nbconvert_exporter": "python",
   "pygments_lexer": "ipython3",
   "version": 3
  },
  "orig_nbformat": 2
 },
 "nbformat": 4,
 "nbformat_minor": 2
}