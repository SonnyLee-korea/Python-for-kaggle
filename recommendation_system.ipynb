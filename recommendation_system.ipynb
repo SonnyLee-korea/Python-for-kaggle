{
 "cells": [
  {
   "cell_type": "code",
   "execution_count": 5,
   "metadata": {},
   "outputs": [],
   "source": [
    "import numpy as np\n",
    "import csv\n",
    "import pandas as pd"
   ]
  },
  {
   "cell_type": "code",
   "execution_count": 24,
   "metadata": {},
   "outputs": [],
   "source": [
    "def cos_similarity(a,b):\n",
    "    return np.dot(a,b)/(np.sqrt(np.sum(a**2))*np.sqrt(np.sum(b**2))+1e-8)"
   ]
  },
  {
   "cell_type": "code",
   "execution_count": 3,
   "metadata": {},
   "outputs": [],
   "source": [
    "item_order = {'Python':0,'Tensorflow':1,'R':2,'Java':3,'AOS':4,'Machine_learning':5}"
   ]
  },
  {
   "cell_type": "code",
   "execution_count": 18,
   "metadata": {},
   "outputs": [],
   "source": [
    "job_mapping = {}\n",
    "f = open('job_demand.csv','r',encoding='utf-8',errors='replace')\n",
    "rdr = csv.reader(f)\n",
    "line_count = 0\n",
    "for row in rdr:\n",
    "    if line_count==0:\n",
    "        pass\n",
    "    else:\n",
    "        if row[0] in job_mapping:\n",
    "            job_mapping[row[0]] += np.eye(6)[item_order[row[1]]]\n",
    "        else:\n",
    "            job_mapping[row[0]] = np.eye(6)[item_order[row[1]]]\n",
    "    line_count+=1\n",
    "f.close()"
   ]
  },
  {
   "cell_type": "code",
   "execution_count": 21,
   "metadata": {},
   "outputs": [],
   "source": [
    "people_mapping={}\n",
    "f = open('people_ability.csv','r',encoding='utf-8',errors='replace')\n",
    "rdr = csv.reader(f)\n",
    "line_count = 0\n",
    "for row in rdr:\n",
    "    if line_count==0:\n",
    "        pass\n",
    "    else:\n",
    "        if row[0] in people_mapping:\n",
    "            people_mapping[row[0]] += np.eye(6)[item_order[row[1]]]\n",
    "        else:\n",
    "            people_mapping[row[0]] = np.eye(6)[item_order[row[1]]]\n",
    "    line_count+=1\n",
    "f.close()\n"
   ]
  },
  {
   "cell_type": "code",
   "execution_count": 26,
   "metadata": {},
   "outputs": [
    {
     "output_type": "stream",
     "name": "stdout",
     "text": "j4zkibixt8씨는 여기에 적합하겠군요Company3\n유사도:  0.8164965775943926\nq29fx9GWj9씨는 여기에 적합하겠군요Company2\n유사도:  0.8164965775943926\naSTbP6m2cb씨는 여기에 적합하겠군요Company3\n유사도:  0.8164965775943926\nOCbcwZaGMJ씨는 여기에 적합하겠군요Company1\n유사도:  0.8164965775943926\nvDV99HIPXO씨는 여기에 적합하겠군요Company4\n유사도:  0.9999999949999998\n"
    }
   ],
   "source": [
    "for key1 in people_mapping:\n",
    "    for key2 in job_mapping:\n",
    "        possibility = cos_similarity(people_mapping[key1],job_mapping[key2])\n",
    "        if possibility>=0.7:\n",
    "            print(str(key1)+\"씨는 여기에 적합하겠군요\"+str(key2))\n",
    "            print(\"유사도: \",possibility)"
   ]
  },
  {
   "cell_type": "code",
   "execution_count": null,
   "metadata": {},
   "outputs": [],
   "source": []
  }
 ],
 "metadata": {
  "language_info": {
   "codemirror_mode": {
    "name": "ipython",
    "version": 3
   },
   "file_extension": ".py",
   "mimetype": "text/x-python",
   "name": "python",
   "nbconvert_exporter": "python",
   "pygments_lexer": "ipython3",
   "version": "3.7.6-final"
  },
  "orig_nbformat": 2,
  "kernelspec": {
   "name": "python3",
   "display_name": "Python 3"
  }
 },
 "nbformat": 4,
 "nbformat_minor": 2
}